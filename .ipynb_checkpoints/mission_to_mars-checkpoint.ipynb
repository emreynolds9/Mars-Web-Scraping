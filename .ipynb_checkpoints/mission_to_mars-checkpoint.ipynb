{
 "cells": [
  {
   "cell_type": "code",
   "execution_count": 86,
   "metadata": {},
   "outputs": [],
   "source": [
    "#Dependencies\n",
    "from bs4 import BeautifulSoup as bs\n",
    "import requests\n",
    "from splinter import Browser"
   ]
  },
  {
   "cell_type": "raw",
   "metadata": {},
   "source": [
    "* Scrape the [NASA Mars News Site](https://mars.nasa.gov/news/) and collect the latest News Title and Paragraph Text. Assign the text to variables that you can reference later.\n",
    "\n",
    "# Example:\n",
    "news_title = \"NASA's Next Mars Mission to Investigate Interior of Red Planet\"\n",
    "\n",
    "news_p = \"Preparation of NASA's next spacecraft to Mars, InSight, has ramped up this summer, on course for launch next May from Vandenberg Air Force Base in central California -- the first interplanetary launch in history from America's West Coast.\""
   ]
  },
  {
   "cell_type": "code",
   "execution_count": 88,
   "metadata": {},
   "outputs": [],
   "source": [
    "# Setup Beautiful Soup\n",
    "url = 'https://mars.nasa.gov/news/'\n",
    "response = requests.get(url)\n",
    "soup = bs(response.text,'html.parser')"
   ]
  },
  {
   "cell_type": "code",
   "execution_count": 89,
   "metadata": {},
   "outputs": [
    {
     "name": "stdout",
     "output_type": "stream",
     "text": [
      "NASA's Curiosity Mars Rover Finds a Clay Cache\n",
      "https://mars.nasa.gov/system/news_items/list_view_images/8442_PIA23240_32x24.jpg\n"
     ]
    }
   ],
   "source": [
    "#News Title\n",
    "results2 = soup.find('img',class_=\"img-lazy\")\n",
    "\n",
    "news_title = results2[\"alt\"]\n",
    "print(news_title)\n",
    "x=results2[\"data-lazy\"]\n",
    "news_img=(f\"https://mars.nasa.gov{x}\")\n",
    "print(news_img)"
   ]
  },
  {
   "cell_type": "code",
   "execution_count": 141,
   "metadata": {},
   "outputs": [
    {
     "data": {
      "text/plain": [
       "[<div class=\"article_teaser_body\">May 30, 2019</div>,\n",
       " <div class=\"article_teaser_body\">\n",
       " \t\t\t\t\t\t\t\t\t\t  This image from NASAs Mars Odyssey shows plains and unnamed craters in Terra Sabaea.\n",
       " \t\t\t\t\t\t\t\t\t\t</div>,\n",
       " <div class=\"article_teaser_body\">May 29, 2019</div>,\n",
       " <div class=\"article_teaser_body\">\n",
       " \t\t\t\t\t\t\t\t\t\t  NASAs Curiosity Mars rover imaged these drifting clouds on May 17, 2019, the 2,410th Martian day, or sol, of the mission, using its Navigation Cameras (Navcams).\n",
       " \t\t\t\t\t\t\t\t\t\t</div>,\n",
       " <div class=\"article_teaser_body\">May 29, 2019</div>,\n",
       " <div class=\"article_teaser_body\">\n",
       " \t\t\t\t\t\t\t\t\t\t  NASAs Curiosity Mars rover imaged these drifting clouds on May 7, 2019, the 2,400th Martian day, or sol, of the mission, using its Navigation Cameras (Navcams).\n",
       " \t\t\t\t\t\t\t\t\t\t</div>,\n",
       " <div class=\"article_teaser_body\">May 29, 2019</div>,\n",
       " <div class=\"article_teaser_body\">\n",
       " \t\t\t\t\t\t\t\t\t\t  NASAs Curiosity Mars rover imaged these drifting clouds on May 12, 2019, the 2,405th Martian day, or sol, of the mission, using its Navigation Cameras (Navcams).\n",
       " \t\t\t\t\t\t\t\t\t\t</div>,\n",
       " <div class=\"article_teaser_body\">May 29, 2019</div>,\n",
       " <div class=\"article_teaser_body\">\n",
       " \t\t\t\t\t\t\t\t\t\t  NASAs Curiosity Mars rover took this selfie on May 12, 2019 (the 2,405th Martian day, or sol, of the mission). To the lower-left of the rover are its two recent drill holes, at targets called Aberlady and Kilmarie.\n",
       " \t\t\t\t\t\t\t\t\t\t</div>,\n",
       " <div class=\"article_teaser_body\">May 29, 2019</div>,\n",
       " <div class=\"article_teaser_body\">\n",
       " \t\t\t\t\t\t\t\t\t\t  This image from NASAs Mars Odyssey shows part of the floor of Herschel Crater.\n",
       " \t\t\t\t\t\t\t\t\t\t</div>,\n",
       " <div class=\"article_teaser_body\">May 28, 2019</div>,\n",
       " <div class=\"article_teaser_body\">\n",
       " \t\t\t\t\t\t\t\t\t\t  This image from NASAs Mars Odyssey shows the floor of an unnamed crater in Noachis Terra.\n",
       " \t\t\t\t\t\t\t\t\t\t</div>,\n",
       " <div class=\"article_teaser_body\">May 27, 2019</div>,\n",
       " <div class=\"article_teaser_body\">\n",
       " \t\t\t\t\t\t\t\t\t\t  This image from NASAs Mars Odyssey shows part of Mangala Fossa.\n",
       " \t\t\t\t\t\t\t\t\t\t</div>,\n",
       " <div class=\"article_teaser_body\">May 24, 2019</div>,\n",
       " <div class=\"article_teaser_body\">\n",
       " \t\t\t\t\t\t\t\t\t\t  This image from NASAs Mars Odyssey shows part of the margin of the north polar cap and the surrounding plains.\n",
       " \t\t\t\t\t\t\t\t\t\t</div>,\n",
       " <div class=\"article_teaser_body\">May 23, 2019</div>,\n",
       " <div class=\"article_teaser_body\">\n",
       " \t\t\t\t\t\t\t\t\t\t  This image from NASAs Mars Odyssey shows part of an unnamed crater in Arabia Terra.\n",
       " \t\t\t\t\t\t\t\t\t\t</div>,\n",
       " <div class=\"article_teaser_body\">May 22, 2019</div>,\n",
       " <div class=\"article_teaser_body\">\n",
       " \t\t\t\t\t\t\t\t\t\t  This image from NASAs Mars Odyssey shows the margin between the north polar cap and the surrounding plains.\n",
       " \t\t\t\t\t\t\t\t\t\t</div>,\n",
       " <div class=\"article_teaser_body\">May 21, 2019</div>,\n",
       " <div class=\"article_teaser_body\">\n",
       " \t\t\t\t\t\t\t\t\t\t  This image from NASAs Mars Odyssey shows Inuvik Crater, located near the north polar cap.\n",
       " \t\t\t\t\t\t\t\t\t\t</div>,\n",
       " <div class=\"article_teaser_body\">May 20, 2019</div>,\n",
       " <div class=\"article_teaser_body\">\n",
       " \t\t\t\t\t\t\t\t\t\t  This image from NASAs Mars Odyssey shows part of Firsoff Crater, located north of Meridiani Planum.\n",
       " \t\t\t\t\t\t\t\t\t\t</div>,\n",
       " <div class=\"article_teaser_body\">May 17, 2019</div>,\n",
       " <div class=\"article_teaser_body\">\n",
       " \t\t\t\t\t\t\t\t\t\t  This image from NASAs Mars Odyssey shows an unnamed crater in Acidalia Planitia.\n",
       " \t\t\t\t\t\t\t\t\t\t</div>,\n",
       " <div class=\"article_teaser_body\">May 16, 2019</div>,\n",
       " <div class=\"article_teaser_body\">\n",
       " \t\t\t\t\t\t\t\t\t\t  This image from NASAs Mars Odyssey shows an unnamed crater north of Meridiani Planum.\n",
       " \t\t\t\t\t\t\t\t\t\t</div>,\n",
       " <div class=\"article_teaser_body\">May 15, 2019</div>,\n",
       " <div class=\"article_teaser_body\">\n",
       " \t\t\t\t\t\t\t\t\t\t  This image of Jezero Crater on Mars, the landing site for NASAs Mars 2020 mission, was taken by instruments on NASAs Mars Reconnaissance Orbiter.\n",
       " \t\t\t\t\t\t\t\t\t\t</div>,\n",
       " <div class=\"article_teaser_body\">May 15, 2019</div>,\n",
       " <div class=\"article_teaser_body\">\n",
       " \t\t\t\t\t\t\t\t\t\t  This series of images shows carbon dioxide ice sublimating (going directly from a solid to a gas) inside a pit at Mars south pole. Each frame of the animation was taken by the HiRISE camera on NASAs Mars Reconnaissance Orbiter.\n",
       " \t\t\t\t\t\t\t\t\t\t</div>,\n",
       " <div class=\"article_teaser_body\">May 15, 2019</div>,\n",
       " <div class=\"article_teaser_body\">\n",
       " \t\t\t\t\t\t\t\t\t\t  This image acquired on March 24, 2019 by NASAs Mars Reconnaissance Orbiter, revisits an impact site in this area first imaged in December 2017.\n",
       " \t\t\t\t\t\t\t\t\t\t</div>,\n",
       " <div class=\"article_teaser_body\">May 15, 2019</div>,\n",
       " <div class=\"article_teaser_body\">\n",
       " \t\t\t\t\t\t\t\t\t\t  This image acquired on February 23, 2019 by NASAs Mars Reconnaissance Orbiter, shows a small landslide in Iani Chaos. Landslides are common on Mars where there are steep slopes, including this area where there are numerous mounds and hills.\n",
       " \t\t\t\t\t\t\t\t\t\t</div>,\n",
       " <div class=\"article_teaser_body\">May 15, 2019</div>,\n",
       " <div class=\"article_teaser_body\">\n",
       " \t\t\t\t\t\t\t\t\t\t  This image acquired on February 18, 2019 by NASAs Mars Reconnaissance Orbiter, shows late winter angled illumination over dunes covered by carbon dioxide frost mixed with dust.\n",
       " \t\t\t\t\t\t\t\t\t\t</div>,\n",
       " <div class=\"article_teaser_body\">May 15, 2019</div>,\n",
       " <div class=\"article_teaser_body\">\n",
       " \t\t\t\t\t\t\t\t\t\t  This image acquired on January 29, 2019 by NASAs Mars Reconnaissance Orbiter, shows the southern half of the picture is covered by a well-preserved lava flow.\n",
       " \t\t\t\t\t\t\t\t\t\t</div>,\n",
       " <div class=\"article_teaser_body\">May 15, 2019</div>,\n",
       " <div class=\"article_teaser_body\">\n",
       " \t\t\t\t\t\t\t\t\t\t  This animation shows a proposed route for NASAs Curiosity rover, which is climbing lower Mount Sharp on Mars.\n",
       " \t\t\t\t\t\t\t\t\t\t</div>,\n",
       " <div class=\"article_teaser_body\">May 15, 2019</div>,\n",
       " <div class=\"article_teaser_body\">\n",
       " \t\t\t\t\t\t\t\t\t\t  This image from NASAs Mars Odyssey shows part of Endeavour Crater in Meridiani Planum.\n",
       " \t\t\t\t\t\t\t\t\t\t</div>,\n",
       " <div class=\"article_teaser_body\">May 14, 2019</div>,\n",
       " <div class=\"article_teaser_body\">\n",
       " \t\t\t\t\t\t\t\t\t\t  This image from NASAs Mars Odyssey shows part of Arabia Terra.\n",
       " \t\t\t\t\t\t\t\t\t\t</div>,\n",
       " <div class=\"article_teaser_body\">May 13, 2019</div>,\n",
       " <div class=\"article_teaser_body\">\n",
       " \t\t\t\t\t\t\t\t\t\t  This image from NASAs Mars Odyssey shows part of the plains of Noachis Terra southwest of Schiaparelli Crater.\n",
       " \t\t\t\t\t\t\t\t\t\t</div>,\n",
       " <div class=\"article_teaser_body\">May 10, 2019</div>,\n",
       " <div class=\"article_teaser_body\">\n",
       " \t\t\t\t\t\t\t\t\t\t  This image from NASAs Mars Odyssey shows part of Terra Cimmeria.\n",
       " \t\t\t\t\t\t\t\t\t\t</div>,\n",
       " <div class=\"article_teaser_body\">May 9, 2019</div>,\n",
       " <div class=\"article_teaser_body\">\n",
       " \t\t\t\t\t\t\t\t\t\t  Each of the three panels is a series of images taken on different dates. Deimos, Mars other moon, can also be seen in the second panel.\n",
       " \t\t\t\t\t\t\t\t\t\t</div>,\n",
       " <div class=\"article_teaser_body\">May 9, 2019</div>,\n",
       " <div class=\"article_teaser_body\">\n",
       " \t\t\t\t\t\t\t\t\t\t  This movie shows the Martian moon Phobos as viewed in visible light by NASAs 2001 Mars Odyssey orbiter on April 24, 2019.\n",
       " \t\t\t\t\t\t\t\t\t\t</div>,\n",
       " <div class=\"article_teaser_body\">May 9, 2019</div>,\n",
       " <div class=\"article_teaser_body\">\n",
       " \t\t\t\t\t\t\t\t\t\t  These are two views of the same observation of the Martian moon Phobos taken in both infrared and visible light by NASAs 2001 Mars Odyssey orbiter using its THEMIS camera. The image was taken on April 24, 2019.\n",
       " \t\t\t\t\t\t\t\t\t\t</div>,\n",
       " <div class=\"article_teaser_body\">May 9, 2019</div>,\n",
       " <div class=\"article_teaser_body\">\n",
       " \t\t\t\t\t\t\t\t\t\t  These three views of the Martian moon Phobos were taken by NASAs 2001 Mars Odyssey orbiter using its infrared camera, THEMIS.\n",
       " \t\t\t\t\t\t\t\t\t\t</div>,\n",
       " <div class=\"article_teaser_body\">May 9, 2019</div>,\n",
       " <div class=\"article_teaser_body\">\n",
       " \t\t\t\t\t\t\t\t\t\t  Taken on April 24, 2019, this image shows the Martian moon Phobos, as viewed by NASAs 2001 Mars Odyssey orbiter using its infrared camera, THEMIS.\n",
       " \t\t\t\t\t\t\t\t\t\t</div>,\n",
       " <div class=\"article_teaser_body\">May 9, 2019</div>,\n",
       " <div class=\"article_teaser_body\">\n",
       " \t\t\t\t\t\t\t\t\t\t  This image from NASAs Mars Odyssey shows part of Herschel Crater located in Terra Cimmeria.\n",
       " \t\t\t\t\t\t\t\t\t\t</div>,\n",
       " <div class=\"article_teaser_body\">\n",
       " \t\t\t\tAccess to the full library of publicly released images from various Solar System exploration programs\n",
       " \t\t\t  </div>,\n",
       " <div class=\"article_teaser_body\">\n",
       " \t\t\t\tA selection of the best-known images from a half-century of exploration and discovery\n",
       " \t\t\t  </div>]"
      ]
     },
     "execution_count": 141,
     "metadata": {},
     "output_type": "execute_result"
    }
   ],
   "source": [
    "#Paragraph Text\n",
    "results2 = soup.find_all('div',class_=\"article_teaser_body\")\n",
    "# for r in results2[:1]:\n",
    "#     news_p = r.find('div', class_=\"rollover_description_inner\").text\n",
    "# print(title)\n",
    "\n",
    "# <div class=\"article_teaser_body\">\n",
    "results2"
   ]
  },
  {
   "cell_type": "raw",
   "metadata": {},
   "source": [
    "### JPL Mars Space Images - Featured Image\n",
    "\n",
    "* Visit the url for JPL Featured Space Image [here](https://www.jpl.nasa.gov/spaceimages/?search=&category=Mars).\n",
    "\n",
    "* Use splinter to navigate the site and find the image url for the current Featured Mars Image and assign the url string to a variable called `featured_image_url`.\n",
    "\n",
    "* Make sure to find the image url to the full size `.jpg` image.\n",
    "\n",
    "* Make sure to save a complete url string for this image.\n",
    "\n",
    "\n",
    "# Example:\n",
    "featured_image_url = 'https://www.jpl.nasa.gov/spaceimages/images/largesize/PIA16225_hires.jpg'"
   ]
  },
  {
   "cell_type": "code",
   "execution_count": 130,
   "metadata": {},
   "outputs": [],
   "source": [
    "url = 'https://www.jpl.nasa.gov/spaceimages/?search=&category=Mars'\n",
    "response = requests.get(url)\n",
    "soup = bs(response.text,'html.parser')\n",
    "\n",
    "executable_path = {'executable_path': 'chromedriver.exe'}\n",
    "browser = Browser('chrome', **executable_path, headless=False)"
   ]
  },
  {
   "cell_type": "code",
   "execution_count": 136,
   "metadata": {},
   "outputs": [
    {
     "ename": "ElementDoesNotExist",
     "evalue": "no elements could be found with link by partial text \"spaceimages\"",
     "output_type": "error",
     "traceback": [
      "\u001b[1;31m---------------------------------------------------------------------------\u001b[0m",
      "\u001b[1;31mIndexError\u001b[0m                                Traceback (most recent call last)",
      "\u001b[1;32m~\\Anaconda3\\envs\\PythonData\\lib\\site-packages\\splinter\\element_list.py\u001b[0m in \u001b[0;36m__getitem__\u001b[1;34m(self, index)\u001b[0m\n\u001b[0;32m     39\u001b[0m         \u001b[1;32mtry\u001b[0m\u001b[1;33m:\u001b[0m\u001b[1;33m\u001b[0m\u001b[1;33m\u001b[0m\u001b[0m\n\u001b[1;32m---> 40\u001b[1;33m             \u001b[1;32mreturn\u001b[0m \u001b[0msuper\u001b[0m\u001b[1;33m(\u001b[0m\u001b[0mElementList\u001b[0m\u001b[1;33m,\u001b[0m \u001b[0mself\u001b[0m\u001b[1;33m)\u001b[0m\u001b[1;33m.\u001b[0m\u001b[0m__getitem__\u001b[0m\u001b[1;33m(\u001b[0m\u001b[0mindex\u001b[0m\u001b[1;33m)\u001b[0m\u001b[1;33m\u001b[0m\u001b[1;33m\u001b[0m\u001b[0m\n\u001b[0m\u001b[0;32m     41\u001b[0m         \u001b[1;32mexcept\u001b[0m \u001b[0mIndexError\u001b[0m\u001b[1;33m:\u001b[0m\u001b[1;33m\u001b[0m\u001b[1;33m\u001b[0m\u001b[0m\n",
      "\u001b[1;31mIndexError\u001b[0m: list index out of range",
      "\nDuring handling of the above exception, another exception occurred:\n",
      "\u001b[1;31mElementDoesNotExist\u001b[0m                       Traceback (most recent call last)",
      "\u001b[1;32m<ipython-input-136-7355acd7c1c2>\u001b[0m in \u001b[0;36m<module>\u001b[1;34m\u001b[0m\n\u001b[0;32m      1\u001b[0m \u001b[0mx\u001b[0m \u001b[1;33m=\u001b[0m \u001b[0msoup\u001b[0m\u001b[1;33m.\u001b[0m\u001b[0mselect\u001b[0m\u001b[1;33m(\u001b[0m\u001b[1;34m'a.button.fancybox'\u001b[0m\u001b[1;33m)\u001b[0m\u001b[1;33m\u001b[0m\u001b[1;33m\u001b[0m\u001b[0m\n\u001b[1;32m----> 2\u001b[1;33m \u001b[0mbrowser\u001b[0m\u001b[1;33m.\u001b[0m\u001b[0mclick_link_by_partial_text\u001b[0m\u001b[1;33m(\u001b[0m\u001b[1;34m'spaceimages'\u001b[0m\u001b[1;33m)\u001b[0m\u001b[1;33m\u001b[0m\u001b[1;33m\u001b[0m\u001b[0m\n\u001b[0m\u001b[0;32m      3\u001b[0m \u001b[0mx\u001b[0m\u001b[1;33m\u001b[0m\u001b[1;33m\u001b[0m\u001b[0m\n",
      "\u001b[1;32m~\\Anaconda3\\envs\\PythonData\\lib\\site-packages\\splinter\\driver\\__init__.py\u001b[0m in \u001b[0;36mclick_link_by_partial_text\u001b[1;34m(self, partial_text)\u001b[0m\n\u001b[0;32m    394\u001b[0m         \u001b[0mClicks\u001b[0m \u001b[1;32min\u001b[0m \u001b[0ma\u001b[0m \u001b[0mlink\u001b[0m \u001b[0mby\u001b[0m \u001b[0mpartial\u001b[0m \u001b[0mcontent\u001b[0m \u001b[0mof\u001b[0m \u001b[0mits\u001b[0m \u001b[0mtext\u001b[0m\u001b[1;33m.\u001b[0m\u001b[1;33m\u001b[0m\u001b[1;33m\u001b[0m\u001b[0m\n\u001b[0;32m    395\u001b[0m         \"\"\"\n\u001b[1;32m--> 396\u001b[1;33m         \u001b[1;32mreturn\u001b[0m \u001b[0mself\u001b[0m\u001b[1;33m.\u001b[0m\u001b[0mfind_link_by_partial_text\u001b[0m\u001b[1;33m(\u001b[0m\u001b[0mpartial_text\u001b[0m\u001b[1;33m)\u001b[0m\u001b[1;33m.\u001b[0m\u001b[0mfirst\u001b[0m\u001b[1;33m.\u001b[0m\u001b[0mclick\u001b[0m\u001b[1;33m(\u001b[0m\u001b[1;33m)\u001b[0m\u001b[1;33m\u001b[0m\u001b[1;33m\u001b[0m\u001b[0m\n\u001b[0m\u001b[0;32m    397\u001b[0m \u001b[1;33m\u001b[0m\u001b[0m\n\u001b[0;32m    398\u001b[0m     \u001b[1;32mdef\u001b[0m \u001b[0mclick_link_by_id\u001b[0m\u001b[1;33m(\u001b[0m\u001b[0mself\u001b[0m\u001b[1;33m,\u001b[0m \u001b[0mid\u001b[0m\u001b[1;33m)\u001b[0m\u001b[1;33m:\u001b[0m\u001b[1;33m\u001b[0m\u001b[1;33m\u001b[0m\u001b[0m\n",
      "\u001b[1;32m~\\Anaconda3\\envs\\PythonData\\lib\\site-packages\\splinter\\element_list.py\u001b[0m in \u001b[0;36mfirst\u001b[1;34m(self)\u001b[0m\n\u001b[0;32m     53\u001b[0m             \u001b[1;33m>>\u001b[0m\u001b[1;33m>\u001b[0m \u001b[1;32massert\u001b[0m \u001b[0melement_list\u001b[0m\u001b[1;33m[\u001b[0m\u001b[1;36m0\u001b[0m\u001b[1;33m]\u001b[0m \u001b[1;33m==\u001b[0m \u001b[0melement_list\u001b[0m\u001b[1;33m.\u001b[0m\u001b[0mfirst\u001b[0m\u001b[1;33m\u001b[0m\u001b[1;33m\u001b[0m\u001b[0m\n\u001b[0;32m     54\u001b[0m         \"\"\"\n\u001b[1;32m---> 55\u001b[1;33m         \u001b[1;32mreturn\u001b[0m \u001b[0mself\u001b[0m\u001b[1;33m[\u001b[0m\u001b[1;36m0\u001b[0m\u001b[1;33m]\u001b[0m\u001b[1;33m\u001b[0m\u001b[1;33m\u001b[0m\u001b[0m\n\u001b[0m\u001b[0;32m     56\u001b[0m \u001b[1;33m\u001b[0m\u001b[0m\n\u001b[0;32m     57\u001b[0m     \u001b[1;33m@\u001b[0m\u001b[0mproperty\u001b[0m\u001b[1;33m\u001b[0m\u001b[1;33m\u001b[0m\u001b[0m\n",
      "\u001b[1;32m~\\Anaconda3\\envs\\PythonData\\lib\\site-packages\\splinter\\element_list.py\u001b[0m in \u001b[0;36m__getitem__\u001b[1;34m(self, index)\u001b[0m\n\u001b[0;32m     42\u001b[0m             raise ElementDoesNotExist(\n\u001b[0;32m     43\u001b[0m                 u'no elements could be found with {0} \"{1}\"'.format(\n\u001b[1;32m---> 44\u001b[1;33m                     \u001b[0mself\u001b[0m\u001b[1;33m.\u001b[0m\u001b[0mfind_by\u001b[0m\u001b[1;33m,\u001b[0m \u001b[0mself\u001b[0m\u001b[1;33m.\u001b[0m\u001b[0mquery\u001b[0m\u001b[1;33m\u001b[0m\u001b[1;33m\u001b[0m\u001b[0m\n\u001b[0m\u001b[0;32m     45\u001b[0m                 )\n\u001b[0;32m     46\u001b[0m             )\n",
      "\u001b[1;31mElementDoesNotExist\u001b[0m: no elements could be found with link by partial text \"spaceimages\""
     ]
    }
   ],
   "source": [
    "x = soup.select('a.button.fancybox')\n",
    "# browser.click_link_by_partial_text('FULL IMAGE')\n",
    "x"
   ]
  },
  {
   "cell_type": "code",
   "execution_count": 122,
   "metadata": {
    "collapsed": true
   },
   "outputs": [
    {
     "ename": "ElementDoesNotExist",
     "evalue": "no elements could be found with link by partial text \"FULL IMAGE\"",
     "output_type": "error",
     "traceback": [
      "\u001b[1;31m---------------------------------------------------------------------------\u001b[0m",
      "\u001b[1;31mIndexError\u001b[0m                                Traceback (most recent call last)",
      "\u001b[1;32m~\\Anaconda3\\envs\\PythonData\\lib\\site-packages\\splinter\\element_list.py\u001b[0m in \u001b[0;36m__getitem__\u001b[1;34m(self, index)\u001b[0m\n\u001b[0;32m     39\u001b[0m         \u001b[1;32mtry\u001b[0m\u001b[1;33m:\u001b[0m\u001b[1;33m\u001b[0m\u001b[1;33m\u001b[0m\u001b[0m\n\u001b[1;32m---> 40\u001b[1;33m             \u001b[1;32mreturn\u001b[0m \u001b[0msuper\u001b[0m\u001b[1;33m(\u001b[0m\u001b[0mElementList\u001b[0m\u001b[1;33m,\u001b[0m \u001b[0mself\u001b[0m\u001b[1;33m)\u001b[0m\u001b[1;33m.\u001b[0m\u001b[0m__getitem__\u001b[0m\u001b[1;33m(\u001b[0m\u001b[0mindex\u001b[0m\u001b[1;33m)\u001b[0m\u001b[1;33m\u001b[0m\u001b[1;33m\u001b[0m\u001b[0m\n\u001b[0m\u001b[0;32m     41\u001b[0m         \u001b[1;32mexcept\u001b[0m \u001b[0mIndexError\u001b[0m\u001b[1;33m:\u001b[0m\u001b[1;33m\u001b[0m\u001b[1;33m\u001b[0m\u001b[0m\n",
      "\u001b[1;31mIndexError\u001b[0m: list index out of range",
      "\nDuring handling of the above exception, another exception occurred:\n",
      "\u001b[1;31mElementDoesNotExist\u001b[0m                       Traceback (most recent call last)",
      "\u001b[1;32m<ipython-input-122-985eb7855502>\u001b[0m in \u001b[0;36m<module>\u001b[1;34m\u001b[0m\n\u001b[0;32m      6\u001b[0m     \u001b[0msoup2\u001b[0m \u001b[1;33m=\u001b[0m \u001b[0mbs\u001b[0m\u001b[1;33m(\u001b[0m\u001b[0mhtml\u001b[0m\u001b[1;33m,\u001b[0m \u001b[1;34m'html.parser'\u001b[0m\u001b[1;33m)\u001b[0m\u001b[1;33m\u001b[0m\u001b[1;33m\u001b[0m\u001b[0m\n\u001b[0;32m      7\u001b[0m     \u001b[0mquotes\u001b[0m \u001b[1;33m=\u001b[0m \u001b[0msoup2\u001b[0m\u001b[1;33m.\u001b[0m\u001b[0mfind_all\u001b[0m\u001b[1;33m(\u001b[0m\u001b[1;34m\"div\"\u001b[0m\u001b[1;33m,\u001b[0m\u001b[0mclass_\u001b[0m\u001b[1;33m=\u001b[0m\u001b[1;34m'carousel_container'\u001b[0m\u001b[1;33m)\u001b[0m\u001b[1;33m\u001b[0m\u001b[1;33m\u001b[0m\u001b[0m\n\u001b[1;32m----> 8\u001b[1;33m     \u001b[0mbrowser\u001b[0m\u001b[1;33m.\u001b[0m\u001b[0mclick_link_by_partial_text\u001b[0m\u001b[1;33m(\u001b[0m\u001b[1;34m'FULL IMAGE'\u001b[0m\u001b[1;33m)\u001b[0m\u001b[1;33m\u001b[0m\u001b[1;33m\u001b[0m\u001b[0m\n\u001b[0m",
      "\u001b[1;32m~\\Anaconda3\\envs\\PythonData\\lib\\site-packages\\splinter\\driver\\__init__.py\u001b[0m in \u001b[0;36mclick_link_by_partial_text\u001b[1;34m(self, partial_text)\u001b[0m\n\u001b[0;32m    394\u001b[0m         \u001b[0mClicks\u001b[0m \u001b[1;32min\u001b[0m \u001b[0ma\u001b[0m \u001b[0mlink\u001b[0m \u001b[0mby\u001b[0m \u001b[0mpartial\u001b[0m \u001b[0mcontent\u001b[0m \u001b[0mof\u001b[0m \u001b[0mits\u001b[0m \u001b[0mtext\u001b[0m\u001b[1;33m.\u001b[0m\u001b[1;33m\u001b[0m\u001b[1;33m\u001b[0m\u001b[0m\n\u001b[0;32m    395\u001b[0m         \"\"\"\n\u001b[1;32m--> 396\u001b[1;33m         \u001b[1;32mreturn\u001b[0m \u001b[0mself\u001b[0m\u001b[1;33m.\u001b[0m\u001b[0mfind_link_by_partial_text\u001b[0m\u001b[1;33m(\u001b[0m\u001b[0mpartial_text\u001b[0m\u001b[1;33m)\u001b[0m\u001b[1;33m.\u001b[0m\u001b[0mfirst\u001b[0m\u001b[1;33m.\u001b[0m\u001b[0mclick\u001b[0m\u001b[1;33m(\u001b[0m\u001b[1;33m)\u001b[0m\u001b[1;33m\u001b[0m\u001b[1;33m\u001b[0m\u001b[0m\n\u001b[0m\u001b[0;32m    397\u001b[0m \u001b[1;33m\u001b[0m\u001b[0m\n\u001b[0;32m    398\u001b[0m     \u001b[1;32mdef\u001b[0m \u001b[0mclick_link_by_id\u001b[0m\u001b[1;33m(\u001b[0m\u001b[0mself\u001b[0m\u001b[1;33m,\u001b[0m \u001b[0mid\u001b[0m\u001b[1;33m)\u001b[0m\u001b[1;33m:\u001b[0m\u001b[1;33m\u001b[0m\u001b[1;33m\u001b[0m\u001b[0m\n",
      "\u001b[1;32m~\\Anaconda3\\envs\\PythonData\\lib\\site-packages\\splinter\\element_list.py\u001b[0m in \u001b[0;36mfirst\u001b[1;34m(self)\u001b[0m\n\u001b[0;32m     53\u001b[0m             \u001b[1;33m>>\u001b[0m\u001b[1;33m>\u001b[0m \u001b[1;32massert\u001b[0m \u001b[0melement_list\u001b[0m\u001b[1;33m[\u001b[0m\u001b[1;36m0\u001b[0m\u001b[1;33m]\u001b[0m \u001b[1;33m==\u001b[0m \u001b[0melement_list\u001b[0m\u001b[1;33m.\u001b[0m\u001b[0mfirst\u001b[0m\u001b[1;33m\u001b[0m\u001b[1;33m\u001b[0m\u001b[0m\n\u001b[0;32m     54\u001b[0m         \"\"\"\n\u001b[1;32m---> 55\u001b[1;33m         \u001b[1;32mreturn\u001b[0m \u001b[0mself\u001b[0m\u001b[1;33m[\u001b[0m\u001b[1;36m0\u001b[0m\u001b[1;33m]\u001b[0m\u001b[1;33m\u001b[0m\u001b[1;33m\u001b[0m\u001b[0m\n\u001b[0m\u001b[0;32m     56\u001b[0m \u001b[1;33m\u001b[0m\u001b[0m\n\u001b[0;32m     57\u001b[0m     \u001b[1;33m@\u001b[0m\u001b[0mproperty\u001b[0m\u001b[1;33m\u001b[0m\u001b[1;33m\u001b[0m\u001b[0m\n",
      "\u001b[1;32m~\\Anaconda3\\envs\\PythonData\\lib\\site-packages\\splinter\\element_list.py\u001b[0m in \u001b[0;36m__getitem__\u001b[1;34m(self, index)\u001b[0m\n\u001b[0;32m     42\u001b[0m             raise ElementDoesNotExist(\n\u001b[0;32m     43\u001b[0m                 u'no elements could be found with {0} \"{1}\"'.format(\n\u001b[1;32m---> 44\u001b[1;33m                     \u001b[0mself\u001b[0m\u001b[1;33m.\u001b[0m\u001b[0mfind_by\u001b[0m\u001b[1;33m,\u001b[0m \u001b[0mself\u001b[0m\u001b[1;33m.\u001b[0m\u001b[0mquery\u001b[0m\u001b[1;33m\u001b[0m\u001b[1;33m\u001b[0m\u001b[0m\n\u001b[0m\u001b[0;32m     45\u001b[0m                 )\n\u001b[0;32m     46\u001b[0m             )\n",
      "\u001b[1;31mElementDoesNotExist\u001b[0m: no elements could be found with link by partial text \"FULL IMAGE\""
     ]
    }
   ],
   "source": [
    "#Featured Image\n",
    "\n",
    "for x in range(1, 6):\n",
    "\n",
    "    html = browser.html\n",
    "    soup2 = bs(html, 'html.parser')\n",
    "    quotes = soup2.find_all(\"div\",class_='carousel_container')\n",
    "    browser.click_link_by_partial_text('FULL IMAGE')\n"
   ]
  },
  {
   "cell_type": "code",
   "execution_count": 120,
   "metadata": {},
   "outputs": [
    {
     "ename": "ElementDoesNotExist",
     "evalue": "no elements could be found with link by partial text \"FULL IMAGE\"",
     "output_type": "error",
     "traceback": [
      "\u001b[1;31m---------------------------------------------------------------------------\u001b[0m",
      "\u001b[1;31mIndexError\u001b[0m                                Traceback (most recent call last)",
      "\u001b[1;32m~\\Anaconda3\\envs\\PythonData\\lib\\site-packages\\splinter\\element_list.py\u001b[0m in \u001b[0;36m__getitem__\u001b[1;34m(self, index)\u001b[0m\n\u001b[0;32m     39\u001b[0m         \u001b[1;32mtry\u001b[0m\u001b[1;33m:\u001b[0m\u001b[1;33m\u001b[0m\u001b[1;33m\u001b[0m\u001b[0m\n\u001b[1;32m---> 40\u001b[1;33m             \u001b[1;32mreturn\u001b[0m \u001b[0msuper\u001b[0m\u001b[1;33m(\u001b[0m\u001b[0mElementList\u001b[0m\u001b[1;33m,\u001b[0m \u001b[0mself\u001b[0m\u001b[1;33m)\u001b[0m\u001b[1;33m.\u001b[0m\u001b[0m__getitem__\u001b[0m\u001b[1;33m(\u001b[0m\u001b[0mindex\u001b[0m\u001b[1;33m)\u001b[0m\u001b[1;33m\u001b[0m\u001b[1;33m\u001b[0m\u001b[0m\n\u001b[0m\u001b[0;32m     41\u001b[0m         \u001b[1;32mexcept\u001b[0m \u001b[0mIndexError\u001b[0m\u001b[1;33m:\u001b[0m\u001b[1;33m\u001b[0m\u001b[1;33m\u001b[0m\u001b[0m\n",
      "\u001b[1;31mIndexError\u001b[0m: list index out of range",
      "\nDuring handling of the above exception, another exception occurred:\n",
      "\u001b[1;31mElementDoesNotExist\u001b[0m                       Traceback (most recent call last)",
      "\u001b[1;32m<ipython-input-120-6f4f33e82f81>\u001b[0m in \u001b[0;36m<module>\u001b[1;34m\u001b[0m\n\u001b[0;32m      1\u001b[0m \u001b[0mhtml\u001b[0m \u001b[1;33m=\u001b[0m \u001b[0mbrowser\u001b[0m\u001b[1;33m.\u001b[0m\u001b[0mhtml\u001b[0m\u001b[1;33m\u001b[0m\u001b[1;33m\u001b[0m\u001b[0m\n\u001b[0;32m      2\u001b[0m \u001b[0mquotes\u001b[0m \u001b[1;33m=\u001b[0m \u001b[0msoup2\u001b[0m\u001b[1;33m.\u001b[0m\u001b[0mfind_all\u001b[0m\u001b[1;33m(\u001b[0m\u001b[1;34m\"div\"\u001b[0m\u001b[1;33m,\u001b[0m\u001b[0mclass_\u001b[0m\u001b[1;33m=\u001b[0m\u001b[1;34m'carousel_container'\u001b[0m\u001b[1;33m)\u001b[0m\u001b[1;33m\u001b[0m\u001b[1;33m\u001b[0m\u001b[0m\n\u001b[1;32m----> 3\u001b[1;33m \u001b[0mbrowser\u001b[0m\u001b[1;33m.\u001b[0m\u001b[0mclick_link_by_partial_text\u001b[0m\u001b[1;33m(\u001b[0m\u001b[1;34m'FULL IMAGE'\u001b[0m\u001b[1;33m)\u001b[0m\u001b[1;33m\u001b[0m\u001b[1;33m\u001b[0m\u001b[0m\n\u001b[0m",
      "\u001b[1;32m~\\Anaconda3\\envs\\PythonData\\lib\\site-packages\\splinter\\driver\\__init__.py\u001b[0m in \u001b[0;36mclick_link_by_partial_text\u001b[1;34m(self, partial_text)\u001b[0m\n\u001b[0;32m    394\u001b[0m         \u001b[0mClicks\u001b[0m \u001b[1;32min\u001b[0m \u001b[0ma\u001b[0m \u001b[0mlink\u001b[0m \u001b[0mby\u001b[0m \u001b[0mpartial\u001b[0m \u001b[0mcontent\u001b[0m \u001b[0mof\u001b[0m \u001b[0mits\u001b[0m \u001b[0mtext\u001b[0m\u001b[1;33m.\u001b[0m\u001b[1;33m\u001b[0m\u001b[1;33m\u001b[0m\u001b[0m\n\u001b[0;32m    395\u001b[0m         \"\"\"\n\u001b[1;32m--> 396\u001b[1;33m         \u001b[1;32mreturn\u001b[0m \u001b[0mself\u001b[0m\u001b[1;33m.\u001b[0m\u001b[0mfind_link_by_partial_text\u001b[0m\u001b[1;33m(\u001b[0m\u001b[0mpartial_text\u001b[0m\u001b[1;33m)\u001b[0m\u001b[1;33m.\u001b[0m\u001b[0mfirst\u001b[0m\u001b[1;33m.\u001b[0m\u001b[0mclick\u001b[0m\u001b[1;33m(\u001b[0m\u001b[1;33m)\u001b[0m\u001b[1;33m\u001b[0m\u001b[1;33m\u001b[0m\u001b[0m\n\u001b[0m\u001b[0;32m    397\u001b[0m \u001b[1;33m\u001b[0m\u001b[0m\n\u001b[0;32m    398\u001b[0m     \u001b[1;32mdef\u001b[0m \u001b[0mclick_link_by_id\u001b[0m\u001b[1;33m(\u001b[0m\u001b[0mself\u001b[0m\u001b[1;33m,\u001b[0m \u001b[0mid\u001b[0m\u001b[1;33m)\u001b[0m\u001b[1;33m:\u001b[0m\u001b[1;33m\u001b[0m\u001b[1;33m\u001b[0m\u001b[0m\n",
      "\u001b[1;32m~\\Anaconda3\\envs\\PythonData\\lib\\site-packages\\splinter\\element_list.py\u001b[0m in \u001b[0;36mfirst\u001b[1;34m(self)\u001b[0m\n\u001b[0;32m     53\u001b[0m             \u001b[1;33m>>\u001b[0m\u001b[1;33m>\u001b[0m \u001b[1;32massert\u001b[0m \u001b[0melement_list\u001b[0m\u001b[1;33m[\u001b[0m\u001b[1;36m0\u001b[0m\u001b[1;33m]\u001b[0m \u001b[1;33m==\u001b[0m \u001b[0melement_list\u001b[0m\u001b[1;33m.\u001b[0m\u001b[0mfirst\u001b[0m\u001b[1;33m\u001b[0m\u001b[1;33m\u001b[0m\u001b[0m\n\u001b[0;32m     54\u001b[0m         \"\"\"\n\u001b[1;32m---> 55\u001b[1;33m         \u001b[1;32mreturn\u001b[0m \u001b[0mself\u001b[0m\u001b[1;33m[\u001b[0m\u001b[1;36m0\u001b[0m\u001b[1;33m]\u001b[0m\u001b[1;33m\u001b[0m\u001b[1;33m\u001b[0m\u001b[0m\n\u001b[0m\u001b[0;32m     56\u001b[0m \u001b[1;33m\u001b[0m\u001b[0m\n\u001b[0;32m     57\u001b[0m     \u001b[1;33m@\u001b[0m\u001b[0mproperty\u001b[0m\u001b[1;33m\u001b[0m\u001b[1;33m\u001b[0m\u001b[0m\n",
      "\u001b[1;32m~\\Anaconda3\\envs\\PythonData\\lib\\site-packages\\splinter\\element_list.py\u001b[0m in \u001b[0;36m__getitem__\u001b[1;34m(self, index)\u001b[0m\n\u001b[0;32m     42\u001b[0m             raise ElementDoesNotExist(\n\u001b[0;32m     43\u001b[0m                 u'no elements could be found with {0} \"{1}\"'.format(\n\u001b[1;32m---> 44\u001b[1;33m                     \u001b[0mself\u001b[0m\u001b[1;33m.\u001b[0m\u001b[0mfind_by\u001b[0m\u001b[1;33m,\u001b[0m \u001b[0mself\u001b[0m\u001b[1;33m.\u001b[0m\u001b[0mquery\u001b[0m\u001b[1;33m\u001b[0m\u001b[1;33m\u001b[0m\u001b[0m\n\u001b[0m\u001b[0;32m     45\u001b[0m                 )\n\u001b[0;32m     46\u001b[0m             )\n",
      "\u001b[1;31mElementDoesNotExist\u001b[0m: no elements could be found with link by partial text \"FULL IMAGE\""
     ]
    }
   ],
   "source": [
    "html = browser.html\n",
    "quotes = soup2.find_all(\"div\",class_='carousel_container')\n",
    "browser.click_link_by_partial_text('FULL IMAGE')"
   ]
  },
  {
   "cell_type": "code",
   "execution_count": null,
   "metadata": {},
   "outputs": [],
   "source": [
    "results2 = soup.find_all('div',class_=\"image_and_description_container\")\n"
   ]
  },
  {
   "cell_type": "raw",
   "metadata": {},
   "source": [
    "### Mars Weather\n",
    "\n",
    "* Visit the Mars Weather twitter account [here](https://twitter.com/marswxreport?lang=en) and scrape the latest Mars weather tweet from the page. Save the tweet text for the weather report as a variable called `mars_weather`.\n",
    "\n",
    "```python\n",
    "# Example:\n",
    "mars_weather = 'Sol 1801 (Aug 30, 2017), Sunny, high -21C/-5F, low -80C/-112F, pressure at 8.82 hPa, daylight 06:09-17:55'"
   ]
  },
  {
   "cell_type": "code",
   "execution_count": null,
   "metadata": {},
   "outputs": [],
   "source": [
    "<a class=\"button fancybox\" data-description=\"The recently formed south polar vortex stands out in the color-swaddled atmosphere of Saturn's largest moon, Titan, in this natural color view from NASA's Cassini spacecraft.\" data-fancybox-group=\"images\" data-fancybox-href=\"/spaceimages/images/mediumsize/PIA14925_ip.jpg\" data-link=\"/spaceimages/details.php?id=PIA14925\" data-title=\"Polar Vortex in Color\" id=\"full_image\">\n",
    "\t\t\t\t\tFULL IMAGE\n",
    "\t\t\t\t  </a>"
   ]
  },
  {
   "cell_type": "code",
   "execution_count": null,
   "metadata": {},
   "outputs": [],
   "source": [
    "### Mars Weather"
   ]
  },
  {
   "cell_type": "raw",
   "metadata": {},
   "source": [
    "### Mars Facts\n",
    "\n",
    "* Visit the Mars Facts webpage [here](https://space-facts.com/mars/) and use Pandas to scrape the table containing facts about the planet including Diameter, Mass, etc.\n",
    "\n",
    "* Use Pandas to convert the data to a HTML table string."
   ]
  },
  {
   "cell_type": "code",
   "execution_count": 3,
   "metadata": {},
   "outputs": [],
   "source": [
    "### Mars Facts"
   ]
  },
  {
   "cell_type": "raw",
   "metadata": {},
   "source": [
    "### Mars Hemispheres\n",
    "\n",
    "* Visit the USGS Astrogeology site [here](https://astrogeology.usgs.gov/search/results?q=hemisphere+enhanced&k1=target&v1=Mars) to obtain high resolution images for each of Mar's hemispheres.\n",
    "\n",
    "* You will need to click each of the links to the hemispheres in order to find the image url to the full resolution image.\n",
    "\n",
    "* Save both the image url string for the full resolution hemisphere image, and the Hemisphere title containing the hemisphere name. Use a Python dictionary to store the data using the keys `img_url` and `title`.\n",
    "\n",
    "* Append the dictionary with the image url string and the hemisphere title to a list. This list will contain one dictionary for each hemisphere.\n",
    "\n",
    "```python\n",
    "# Example:\n",
    "hemisphere_image_urls = [\n",
    "    {\"title\": \"Valles Marineris Hemisphere\", \"img_url\": \"...\"},\n",
    "    {\"title\": \"Cerberus Hemisphere\", \"img_url\": \"...\"},\n",
    "    {\"title\": \"Schiaparelli Hemisphere\", \"img_url\": \"...\"},\n",
    "    {\"title\": \"Syrtis Major Hemisphere\", \"img_url\": \"...\"},"
   ]
  }
 ],
 "metadata": {
  "kernelspec": {
   "display_name": "Python 3",
   "language": "python",
   "name": "python3"
  },
  "language_info": {
   "codemirror_mode": {
    "name": "ipython",
    "version": 3
   },
   "file_extension": ".py",
   "mimetype": "text/x-python",
   "name": "python",
   "nbconvert_exporter": "python",
   "pygments_lexer": "ipython3",
   "version": "3.6.7"
  }
 },
 "nbformat": 4,
 "nbformat_minor": 2
}
